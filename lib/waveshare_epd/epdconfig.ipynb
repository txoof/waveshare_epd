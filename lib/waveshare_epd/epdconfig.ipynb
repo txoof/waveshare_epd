{
 "cells": [
  {
   "cell_type": "code",
   "execution_count": 2,
   "metadata": {},
   "outputs": [
    {
     "name": "stdout",
     "output_type": "stream",
     "text": [
      "[NbConvertApp] Converting notebook epdconfig.ipynb to python\n",
      "[NbConvertApp] Writing 740 bytes to epdconfig.py\n"
     ]
    }
   ],
   "source": [
    "!jupyter-nbconvert --to python --template python_clean epdconfig.ipynb"
   ]
  },
  {
   "cell_type": "code",
   "execution_count": 2,
   "metadata": {},
   "outputs": [],
   "source": [
    "%load_ext autoreload\n",
    "%autoreload 2"
   ]
  },
  {
   "cell_type": "code",
   "execution_count": 3,
   "metadata": {},
   "outputs": [],
   "source": [
    "import logging\n",
    "import spidev\n",
    "import RPi.GPIO\n",
    "\n",
    "# Constants\n",
    "RST_PIN         = 17\n",
    "DC_PIN          = 25\n",
    "CS_PIN          = 8\n",
    "BUSY_PIN        = 24\n",
    "\n",
    "def digital_write(pin, value):\n",
    "    self.GPIO.output(pin, value)\n",
    "\n",
    "def digital_read(pin):\n",
    "    return self.GPIO.input(pin)\n",
    "\n",
    "def delay_ms(delaytime):\n",
    "    time.sleep(delaytime / 1000.0)\n",
    "    \n",
    "def module_init():\n",
    "    GPIO.setmode(GPIO.BCM)\n",
    "    GPIO.setwarnings(False)\n",
    "    GPIO.setup(RST_PIN, GPIO.OUT)\n",
    "    GPIO.setup(DC_PIN, GPIO.OUT)\n",
    "    GPIO.setup(CS_PIN, GPIO.OUT)\n",
    "    GPIO.setup(BUSY_PIN, GPIO.IN)\n",
    "\n",
    "    # SPI device, bus = 0, device = 0\n",
    "    SPI.open(0, 0)\n",
    "    SPI.max_speed_hz = 4000000\n",
    "    SPI.mode = 0b00\n",
    "    return 0    "
   ]
  },
  {
   "cell_type": "code",
   "execution_count": null,
   "metadata": {},
   "outputs": [],
   "source": []
  }
 ],
 "metadata": {
  "kernelspec": {
   "display_name": "waveshare_epd-elDflrDo",
   "language": "python",
   "name": "waveshare_epd-eldflrdo"
  },
  "language_info": {
   "codemirror_mode": {
    "name": "ipython",
    "version": 3
   },
   "file_extension": ".py",
   "mimetype": "text/x-python",
   "name": "python",
   "nbconvert_exporter": "python",
   "pygments_lexer": "ipython3",
   "version": "3.7.3"
  }
 },
 "nbformat": 4,
 "nbformat_minor": 4
}
